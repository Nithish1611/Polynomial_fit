{
 "cells": [
  {
   "cell_type": "code",
   "execution_count": 23,
   "metadata": {},
   "outputs": [],
   "source": [
    "import pandas as pd\n",
    "import numpy as np\n",
    "import matplotlib.pyplot as plt\n",
    "def linear_regression(x,y):\n",
    "    '''\n",
    "    This function finds coefficients of best fit Qudratic function to the given x and y values using QR Decomposition and back substitution\n",
    "    Input:\n",
    "    x - x value of data\n",
    "    y - y value of data\n",
    "    \n",
    "    output\n",
    "    return Coefficients\n",
    "    '''\n",
    "    x_2=[x[i]*x[i] for i in range(len(x))]\n",
    "    A=np.array([x_2,x,[1 for i in range(len(x))]])#Defining a Matrix to decompose\n",
    "    Q=[]\n",
    "    u=[]\n",
    "    for i in range(len(A)):# Finding Q matrix using Gram Schmidt process\n",
    "        v=A[i,:].tolist()\n",
    "        for j in range(i):\n",
    "            v=(np.array(v)-(((np.dot(A[i,:],np.array(u[j])))/(np.dot(np.array(u[j]),np.array(u[j]))))*np.array(u[j]))).tolist()\n",
    "        u.append(v)\n",
    "        Q.append(((np.array(u[i])*(1/((np.dot(np.array(u[i]),np.array(u[i]))))**0.5))).tolist())\n",
    "    Q=np.array(Q)\n",
    "    R=[]\n",
    "    for i in range(len(Q)):# Calculating R matrix using A and Q matrices\n",
    "        if i==0:\n",
    "            r=[]\n",
    "        if i==1:\n",
    "            r=[0]\n",
    "        if i==2:\n",
    "            r=[0,0]\n",
    "        for j in range(3-i):\n",
    "            r.append(np.dot(Q[i,:],A[j+i,:]))\n",
    "        R.append(r)\n",
    "    R=np.array(R)\n",
    "    Q_T=Q.transpose()\n",
    "    Coefficients=[]\n",
    "    y=np.array(y)\n",
    "    y_T=y.transpose()\n",
    "    #Finding the coefficients using back substitution\n",
    "    Coefficients.append((np.dot(Q_T[:,2],y_T)/R[2][2]))\n",
    "    Coefficients.append(((np.dot(Q_T[:,1],y_T)-(Coefficients[0]*R[1][2]))/R[1][1]))\n",
    "    Coefficients.append(((np.dot(Q_T[:,0],y_T)-(Coefficients[0]*R[0][2])-(Coefficients[1]*R[0][1]))/R[0][0]))\n",
    "    return(Coefficients)\n",
    "            "
   ]
  },
  {
   "cell_type": "code",
   "execution_count": 24,
   "metadata": {},
   "outputs": [],
   "source": [
    "def linear_regression_1(x,y):\n",
    "    '''\n",
    "    This function finds coefficients of best fit Biqudratic function to the given x and y values using QR Decomposition and back substitution\n",
    "    Input:\n",
    "    x - x value of data\n",
    "    y - y value of data\n",
    "    \n",
    "    output\n",
    "    return Coefficients\n",
    "    '''\n",
    "    x_4=[x[i]**4 for i in range(len(x))]\n",
    "    x_2=[x[i]*x[i] for i in range(len(x))]\n",
    "    A=np.array([x_4,x_2,x,[1 for i in range(len(x))]])#Defining a Matrix to decompose\n",
    "    Q=[]\n",
    "    u=[]\n",
    "    for i in range(len(A)):# Finding Q matrix using Gram Schmidt process\n",
    "        v=A[i,:].tolist()\n",
    "        for j in range(i):\n",
    "            v=(np.array(v)-(((np.dot(A[i,:],np.array(u[j])))/(np.dot(np.array(u[j]),np.array(u[j]))))*np.array(u[j]))).tolist()\n",
    "        u.append(v)\n",
    "        Q.append(((np.array(u[i])*(1/((np.dot(np.array(u[i]),np.array(u[i]))))**0.5))).tolist())\n",
    "    Q=np.array(Q)\n",
    "    R=[]\n",
    "    for i in range(len(Q)):# Calculating R matrix using A and Q matrices\n",
    "        if i==0:\n",
    "            r=[]\n",
    "        if i==1:\n",
    "            r=[0]\n",
    "        if i==2:\n",
    "            r=[0,0]\n",
    "        if i==3:\n",
    "            r=[0,0,0]\n",
    "        for j in range(4-i):\n",
    "            r.append(np.dot(Q[i,:],A[j+i,:]))\n",
    "        R.append(r)\n",
    "    R=np.array(R)\n",
    "    Q_T=Q.transpose()\n",
    "    Coefficients=[]\n",
    "    y=np.array(y)\n",
    "    y_T=y.transpose()\n",
    "    #Finding the coefficients using back substitution\n",
    "    Coefficients.append((np.dot(Q_T[:,3],y_T)/R[3][3]))\n",
    "    Coefficients.append(((np.dot(Q_T[:,2],y_T)-(Coefficients[0]*R[2][3]))/R[2][2]))\n",
    "    Coefficients.append(((np.dot(Q_T[:,1],y_T)-(Coefficients[0]*R[1][3])-(Coefficients[1]*R[1][2]))/R[1][1]))\n",
    "    Coefficients.append(((np.dot(Q_T[:,0],y_T)-(Coefficients[0]*R[0][3])-(Coefficients[1]*R[0][2])-(Coefficients[2]*R[0][1]))/R[0][0]))\n",
    "    return(Coefficients)"
   ]
  },
  {
   "cell_type": "code",
   "execution_count": 25,
   "metadata": {},
   "outputs": [
    {
     "data": {
      "image/png": "[encoded data removed]",
      "text/plain": [
       "<Figure size 432x288 with 1 Axes>"
      ]
     },
     "metadata": {
      "needs_background": "light"
     },
     "output_type": "display_data"
    },
    {
     "name": "stdout",
     "output_type": "stream",
     "text": [
      "6.059591161208203\n"
     ]
    }
   ],
   "source": [
    "data=pd.read_csv(\"data.txt\",delimiter=' ',names=[\"x\",\"y\"])\n",
    "x=list(data.iloc[:,0])\n",
    "y=list(data.iloc[:,1])\n",
    "Coefficients=linear_regression(x,y)\n",
    "y_pred=[]\n",
    "for i in range(len(x)):\n",
    "    y_pred.append(Coefficients[2]*x[i]*x[i]+Coefficients[1]*x[i]+Coefficients[0])\n",
    "plt.plot(x,y_pred,\"y\",linewidth=4,label=\"Quadratic Fit\")\n",
    "plt.scatter(x,y)\n",
    "plt.xlabel(\"X\",fontsize=14)\n",
    "plt.ylabel(\"Y\",fontsize=14)\n",
    "plt.xticks(fontsize=14)\n",
    "plt.yticks(fontsize=14)\n",
    "plt.legend()\n",
    "plt.savefig(\"Quadr.png\")\n",
    "plt.show()\n",
    "Absolute_Error=0\n",
    "for i in range(len(x)):\n",
    "    Absolute_Error+=abs(y_pred[i]-y[i])\n",
    "print(Absolute_Error)\n",
    "    "
   ]
  },
  {
   "cell_type": "code",
   "execution_count": 26,
   "metadata": {},
   "outputs": [
    {
     "data": {
      "image/png": "[encoded data removed]",
      "text/plain": [
       "<Figure size 432x288 with 1 Axes>"
      ]
     },
     "metadata": {
      "needs_background": "light"
     },
     "output_type": "display_data"
    },
    {
     "name": "stdout",
     "output_type": "stream",
     "text": [
      "6.002369670225158\n"
     ]
    }
   ],
   "source": [
    "Coefficients=linear_regression_1(x,y)\n",
    "y_pred=[]\n",
    "for i in range(len(x)):\n",
    "    y_pred.append(Coefficients[3]*x[i]**4+Coefficients[2]*x[i]**2+Coefficients[1]*x[i]+Coefficients[0])\n",
    "plt.plot(x,y_pred,\"y\",linewidth=4,label=\"Biquadratic Fit\")\n",
    "plt.scatter(x,y)\n",
    "plt.xlabel(\"X\",fontsize=14)\n",
    "plt.ylabel(\"Y\",fontsize=14)\n",
    "plt.xticks(fontsize=14)\n",
    "plt.yticks(fontsize=14)\n",
    "plt.legend()\n",
    "plt.savefig(\"Biquadr.png\")\n",
    "plt.show()\n",
    "Absolute_Error=0\n",
    "for i in range(len(x)):\n",
    "    Absolute_Error+=abs(y_pred[i]-y[i])\n",
    "print(Absolute_Error)"
   ]
  },
  {
   "cell_type": "code",
   "execution_count": 13,
   "metadata": {},
   "outputs": [],
   "source": []
  },
  {
   "cell_type": "code",
   "execution_count": null,
   "metadata": {},
   "outputs": [],
   "source": []
  }
 ],
 "metadata": {
  "kernelspec": {
   "display_name": "Python 3",
   "language": "python",
   "name": "python3"
  },
  "language_info": {
   "codemirror_mode": {
    "name": "ipython",
    "version": 3
   },
   "file_extension": ".py",
   "mimetype": "text/x-python",
   "name": "python",
   "nbconvert_exporter": "python",
   "pygments_lexer": "ipython3",
   "version": "3.8.3"
  }
 },
 "nbformat": 4,
 "nbformat_minor": 4
}
